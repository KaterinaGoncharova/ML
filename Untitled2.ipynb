{
 "cells": [
  {
   "cell_type": "code",
   "execution_count": 57,
   "metadata": {
    "collapsed": false
   },
   "outputs": [],
   "source": [
    "# coding: utf-8\n",
    "\n",
    "import matplotlib.pyplot as plt\n",
    "from pandas import date_range,Series,DataFrame,read_csv, qcut\n",
    "from pandas.tools.plotting import radviz,scatter_matrix,bootstrap_plot,parallel_coordinates\n",
    "from numpy.random import randn\n",
    "from pylab import *\n",
    "from matplotlib import rcParams\n",
    "import brewer2mpl\n",
    "\n",
    "%matplotlib inline\n",
    "\n",
    "titanic = pd.read_csv('titanic.csv.csv')\n",
    "#tclass = titanic.groupby(['Sex', 'Survived']).size().unstack()#-вероятность выжить для мужчин и женщин\n",
    "tclass = titanic.groupby(['Pclass', 'Survived']).size().unstack()#-вероятность выжить для пассажиров разных социально-экономических классов (Pclass)\n",
    "#print tclass\n",
    "\n"
   ]
  },
  {
   "cell_type": "raw",
   "metadata": {
    "collapsed": false
   },
   "source": [
    "titanic.describe()"
   ]
  },
  {
   "cell_type": "markdown",
   "metadata": {
    "collapsed": false
   },
   "source": [
    "#tclass = titanic.groupby(['Sex', 'Survived']).size().unstack()#-вероятность выжить для мужчин и женщин\n",
    "tclass = titanic.groupby(['Pclass', 'Survived']).size().unstack()#-вероятность выжить для пассажиров разных социально-экономических классов (Pclass)\n",
    "print tclass\n",
    "\n"
   ]
  },
  {
   "cell_type": "markdown",
   "metadata": {
    "collapsed": false
   },
   "source": [
    "# dark2_colors = brewer2mpl.get_map('Dark2', 'Qualitative', 7).mpl_colors\n",
    "plt.subplot(aspect=True)\n",
    "plt.pie(t, labels=t.index.values, colors = dark2_colors[0:3], autopct='%i%%')\n",
    "#plt.title(\"Sex\")#-большим шансом на выживание обладала мужская половина. Муж-64%, Жен-35%\n",
    "plt.title(\"Class\")#-3 класс-55%, 2 класс 20%,1 класс 24%\n",
    "\n",
    "\n",
    "plt.show()"
   ]
  },
  {
   "cell_type": "code",
   "execution_count": null,
   "metadata": {
    "collapsed": true
   },
   "outputs": [],
   "source": []
  },
  {
   "cell_type": "code",
   "execution_count": null,
   "metadata": {
    "collapsed": true
   },
   "outputs": [],
   "source": []
  }
 ],
 "metadata": {
  "kernelspec": {
   "display_name": "Python 2",
   "language": "python",
   "name": "python2"
  },
  "language_info": {
   "codemirror_mode": {
    "name": "ipython",
    "version": 2
   },
   "file_extension": ".py",
   "mimetype": "text/x-python",
   "name": "python",
   "nbconvert_exporter": "python",
   "pygments_lexer": "ipython2",
   "version": "2.7.13"
  }
 },
 "nbformat": 4,
 "nbformat_minor": 2
}
